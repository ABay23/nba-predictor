{
 "cells": [
  {
   "cell_type": "code",
   "execution_count": 40,
   "metadata": {},
   "outputs": [],
   "source": [
    "import os\n",
    "import pandas as pd \n",
    "from bs4 import BeautifulSoup\n",
    "from io import StringIO\n"
   ]
  },
  {
   "cell_type": "code",
   "execution_count": 41,
   "metadata": {},
   "outputs": [],
   "source": [
    "SCORE_DIR = 'data/scores'"
   ]
  },
  {
   "cell_type": "code",
   "execution_count": 42,
   "metadata": {},
   "outputs": [],
   "source": [
    "box_scores = os.listdir(SCORE_DIR)"
   ]
  },
  {
   "cell_type": "code",
   "execution_count": 43,
   "metadata": {},
   "outputs": [],
   "source": [
    "box_scores = [os.path.join(SCORE_DIR, f) for f in box_scores if f.endswith('.html')]"
   ]
  },
  {
   "cell_type": "code",
   "execution_count": 44,
   "metadata": {},
   "outputs": [],
   "source": [
    "def parse_html(box_score):\n",
    "    with open(box_score) as f:\n",
    "        html = f.read()\n",
    "        \n",
    "    soup = BeautifulSoup(html)\n",
    "    [s.decompose() for s in soup.select('tr.over_header')]\n",
    "    [s.decompose() for s in soup.select('tr.thead')]\n",
    "    return soup"
   ]
  },
  {
   "cell_type": "code",
   "execution_count": 45,
   "metadata": {},
   "outputs": [],
   "source": [
    "def read_line_score(soup):\n",
    "    line_score = pd.read_html(StringIO(str(soup)), attrs={'id' : 'line_score'})[0]\n",
    "    cols = list(line_score.columns)\n",
    "    cols[0] = 'team'\n",
    "    cols[-1] = 'total'\n",
    "    line_score.columns = cols\n",
    "    \n",
    "    line_score = line_score[['team', 'total']]\n",
    "    return line_score"
   ]
  },
  {
   "cell_type": "code",
   "execution_count": 56,
   "metadata": {},
   "outputs": [],
   "source": [
    "def read_stats(soup, team, stat):\n",
    "    df = pd.read_html(StringIO(str(soup)), attrs = {'id' : f'box-{team}-game-{stat}'}, index_col= 0)[0]\n",
    "    df = df.apply(pd.to_numeric, errors='coerce')\n",
    "    return df"
   ]
  },
  {
   "cell_type": "code",
   "execution_count": 72,
   "metadata": {},
   "outputs": [],
   "source": [
    "box_score = box_scores[0]\n",
    "soup = parse_html(box_score)\n",
    "line_score = read_line_score(soup)\n",
    "teams = list(line_score['team'])\n",
    "\n",
    "summaries = []\n",
    "for team in teams:\n",
    "    basic = read_stats(soup, team, 'basic')\n",
    "    advanced = read_stats(soup, team, 'advanced')\n",
    "    \n",
    "    totals = pd.concat([basic.iloc[-1,:], advanced.iloc[-1,:]])\n",
    "    totals.index = totals.index.str.lower()\n",
    "    \n",
    "    maxes = pd.concat([basic.iloc[:-1,:].max(), advanced.iloc[:-1,:].max()])\n",
    "    maxes.index = maxes.index.str.lower() + '_max'"
   ]
  },
  {
   "cell_type": "code",
   "execution_count": 74,
   "metadata": {},
   "outputs": [
    {
     "data": {
      "text/plain": [
       "mp_max          NaN\n",
       "fg_max        8.000\n",
       "fga_max      20.000\n",
       "fg%_max       1.000\n",
       "3p_max        2.000\n",
       "3pa_max       8.000\n",
       "3p%_max       0.500\n",
       "ft_max        6.000\n",
       "fta_max       7.000\n",
       "ft%_max       1.000\n",
       "orb_max       7.000\n",
       "drb_max      10.000\n",
       "trb_max      17.000\n",
       "ast_max       6.000\n",
       "stl_max       3.000\n",
       "blk_max       2.000\n",
       "tov_max       2.000\n",
       "pf_max        4.000\n",
       "pts_max      18.000\n",
       "+/-_max      11.000\n",
       "mp_max          NaN\n",
       "ts%_max       0.862\n",
       "efg%_max      1.000\n",
       "3par_max      0.500\n",
       "ftr_max       3.000\n",
       "orb%_max     14.600\n",
       "drb%_max     34.300\n",
       "trb%_max     22.000\n",
       "ast%_max     31.000\n",
       "stl%_max      4.900\n",
       "blk%_max      4.400\n",
       "tov%_max     22.800\n",
       "usg%_max     29.000\n",
       "ortg_max    178.000\n",
       "drtg_max    111.000\n",
       "bpm_max       5.500\n",
       "dtype: float64"
      ]
     },
     "execution_count": 74,
     "metadata": {},
     "output_type": "execute_result"
    }
   ],
   "source": [
    "maxes"
   ]
  }
 ],
 "metadata": {
  "kernelspec": {
   "display_name": "Python 3",
   "language": "python",
   "name": "python3"
  },
  "language_info": {
   "codemirror_mode": {
    "name": "ipython",
    "version": 3
   },
   "file_extension": ".py",
   "mimetype": "text/x-python",
   "name": "python",
   "nbconvert_exporter": "python",
   "pygments_lexer": "ipython3",
   "version": "3.12.0"
  }
 },
 "nbformat": 4,
 "nbformat_minor": 2
}
