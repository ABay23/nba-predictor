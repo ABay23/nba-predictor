{
 "cells": [
  {
   "cell_type": "code",
   "execution_count": 40,
   "metadata": {},
   "outputs": [],
   "source": [
    "import os\n",
    "import pandas as pd \n",
    "from bs4 import BeautifulSoup\n",
    "from io import StringIO\n"
   ]
  },
  {
   "cell_type": "code",
   "execution_count": 41,
   "metadata": {},
   "outputs": [],
   "source": [
    "SCORE_DIR = 'data/scores'"
   ]
  },
  {
   "cell_type": "code",
   "execution_count": 42,
   "metadata": {},
   "outputs": [],
   "source": [
    "box_scores = os.listdir(SCORE_DIR)"
   ]
  },
  {
   "cell_type": "code",
   "execution_count": 43,
   "metadata": {},
   "outputs": [],
   "source": [
    "box_scores = [os.path.join(SCORE_DIR, f) for f in box_scores if f.endswith('.html')]"
   ]
  },
  {
   "cell_type": "code",
   "execution_count": 44,
   "metadata": {},
   "outputs": [],
   "source": [
    "def parse_html(box_score):\n",
    "    with open(box_score) as f:\n",
    "        html = f.read()\n",
    "        \n",
    "    soup = BeautifulSoup(html)\n",
    "    [s.decompose() for s in soup.select('tr.over_header')]\n",
    "    [s.decompose() for s in soup.select('tr.thead')]\n",
    "    return soup"
   ]
  },
  {
   "cell_type": "code",
   "execution_count": 45,
   "metadata": {},
   "outputs": [],
   "source": [
    "def read_line_score(soup):\n",
    "    line_score = pd.read_html(StringIO(str(soup)), attrs={'id' : 'line_score'})[0]\n",
    "    cols = list(line_score.columns)\n",
    "    cols[0] = 'team'\n",
    "    cols[-1] = 'total'\n",
    "    line_score.columns = cols\n",
    "    \n",
    "    line_score = line_score[['team', 'total']]\n",
    "    return line_score"
   ]
  },
  {
   "cell_type": "code",
   "execution_count": 56,
   "metadata": {},
   "outputs": [],
   "source": [
    "def read_stats(soup, team, stat):\n",
    "    df = pd.read_html(StringIO(str(soup)), attrs = {'id' : f'box-{team}-game-{stat}'}, index_col= 0)[0]\n",
    "    df = df.apply(pd.to_numeric, errors='coerce')\n",
    "    return df"
   ]
  },
  {
   "cell_type": "code",
   "execution_count": 93,
   "metadata": {},
   "outputs": [],
   "source": [
    "def read_season_info(soup):\n",
    "    nav = soup.select('#bottom_nav_container')[0]\n",
    "    href = [a['href'] for a in nav.find_all('a')]\n",
    "    season = os.path.basename(href[1]).split('_')[0]\n",
    "    return season"
   ]
  },
  {
   "cell_type": "code",
   "execution_count": 101,
   "metadata": {},
   "outputs": [
    {
     "name": "stdout",
     "output_type": "stream",
     "text": [
      "100 / 8920\n",
      "200 / 8920\n",
      "300 / 8920\n",
      "400 / 8920\n",
      "500 / 8920\n",
      "600 / 8920\n",
      "700 / 8920\n",
      "800 / 8920\n",
      "900 / 8920\n",
      "1000 / 8920\n",
      "1100 / 8920\n",
      "1200 / 8920\n",
      "1300 / 8920\n",
      "1400 / 8920\n",
      "1500 / 8920\n",
      "1600 / 8920\n",
      "1700 / 8920\n",
      "1800 / 8920\n",
      "1900 / 8920\n",
      "2000 / 8920\n",
      "2100 / 8920\n",
      "2200 / 8920\n",
      "2300 / 8920\n",
      "2400 / 8920\n",
      "2500 / 8920\n",
      "2600 / 8920\n",
      "2700 / 8920\n",
      "2800 / 8920\n",
      "2900 / 8920\n",
      "3000 / 8920\n",
      "3100 / 8920\n",
      "3200 / 8920\n",
      "3300 / 8920\n",
      "3400 / 8920\n",
      "3500 / 8920\n",
      "3600 / 8920\n",
      "3700 / 8920\n",
      "3800 / 8920\n",
      "3900 / 8920\n",
      "4000 / 8920\n",
      "4100 / 8920\n",
      "4200 / 8920\n",
      "4300 / 8920\n",
      "4400 / 8920\n",
      "4500 / 8920\n",
      "4600 / 8920\n",
      "4700 / 8920\n",
      "4800 / 8920\n",
      "4900 / 8920\n",
      "5000 / 8920\n",
      "5100 / 8920\n",
      "5200 / 8920\n",
      "5300 / 8920\n",
      "5400 / 8920\n",
      "5500 / 8920\n",
      "5600 / 8920\n",
      "5700 / 8920\n",
      "5800 / 8920\n",
      "5900 / 8920\n",
      "6000 / 8920\n",
      "6100 / 8920\n",
      "6200 / 8920\n",
      "6300 / 8920\n",
      "6400 / 8920\n",
      "6500 / 8920\n",
      "6600 / 8920\n",
      "6700 / 8920\n",
      "6800 / 8920\n",
      "6900 / 8920\n",
      "7000 / 8920\n",
      "7100 / 8920\n",
      "7200 / 8920\n",
      "7300 / 8920\n",
      "7400 / 8920\n",
      "7500 / 8920\n",
      "7600 / 8920\n",
      "7700 / 8920\n",
      "7800 / 8920\n",
      "7900 / 8920\n",
      "8000 / 8920\n",
      "8100 / 8920\n",
      "8200 / 8920\n",
      "8300 / 8920\n",
      "8400 / 8920\n",
      "8500 / 8920\n",
      "8600 / 8920\n",
      "8700 / 8920\n",
      "8800 / 8920\n",
      "8900 / 8920\n"
     ]
    }
   ],
   "source": [
    "base_cols = None\n",
    "games = []\n",
    "\n",
    "for box_score in box_scores:\n",
    "    soup = parse_html(box_score)\n",
    "    line_score = read_line_score(soup)\n",
    "    teams = list(line_score['team'])\n",
    "\n",
    "    summaries = []\n",
    "    for team in teams:\n",
    "        basic = read_stats(soup, team, 'basic')\n",
    "        advanced = read_stats(soup, team, 'advanced')\n",
    "        \n",
    "        totals = pd.concat([basic.iloc[-1,:], advanced.iloc[-1,:]])\n",
    "        totals.index = totals.index.str.lower()\n",
    "        \n",
    "        maxes = pd.concat([basic.iloc[:-1,:].max(), advanced.iloc[:-1,:].max()])\n",
    "        maxes.index = maxes.index.str.lower() + '_max'\n",
    "        \n",
    "        summary = pd.concat([totals, maxes])\n",
    "        \n",
    "        if base_cols is None:\n",
    "            base_cols = list(summary.index.drop_duplicates(keep='first'))\n",
    "            base_cols = [b for b in base_cols if 'bpm' not in b]\n",
    "            \n",
    "        summary = summary[base_cols]\n",
    "        \n",
    "        summaries.append(summary)\n",
    "        \n",
    "    summary = pd.concat(summaries, axis=1).T  \n",
    "\n",
    "    game = pd.concat([summary, line_score], axis=1)\n",
    "\n",
    "    game['home'] = [0, 1]\n",
    "    game_opp = game.iloc[:: -1].reset_index()\n",
    "    game_opp.columns += '_opp'\n",
    "\n",
    "    full_game = pd.concat([game, game_opp], axis=1)\n",
    "\n",
    "    full_game['season'] = read_season_info(soup)\n",
    "\n",
    "    full_game['date'] = os.path.basename(box_score)[:8]\n",
    "    full_game['date'] = pd.to_datetime(full_game['date'], format='%Y%m%d')\n",
    "\n",
    "    full_game['won'] = full_game['total'] > full_game['total_opp']\n",
    "\n",
    "    games.append(full_game)\n",
    "    \n",
    "    if len(games) % 100 == 0:\n",
    "        print(f'{len(games)} / {len(box_scores)}')"
   ]
  },
  {
   "cell_type": "markdown",
   "metadata": {},
   "source": []
  },
  {
   "cell_type": "code",
   "execution_count": 102,
   "metadata": {},
   "outputs": [],
   "source": [
    "games_df = pd.concat(games, ignore_index=True)"
   ]
  },
  {
   "cell_type": "code",
   "execution_count": 103,
   "metadata": {},
   "outputs": [],
   "source": [
    "games_df.to_csv('nba_games.csv')"
   ]
  }
 ],
 "metadata": {
  "kernelspec": {
   "display_name": "Python 3",
   "language": "python",
   "name": "python3"
  },
  "language_info": {
   "codemirror_mode": {
    "name": "ipython",
    "version": 3
   },
   "file_extension": ".py",
   "mimetype": "text/x-python",
   "name": "python",
   "nbconvert_exporter": "python",
   "pygments_lexer": "ipython3",
   "version": "3.12.0"
  }
 },
 "nbformat": 4,
 "nbformat_minor": 2
}
