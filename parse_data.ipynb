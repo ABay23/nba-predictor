{
 "cells": [
  {
   "cell_type": "code",
   "execution_count": 40,
   "metadata": {},
   "outputs": [],
   "source": [
    "import os\n",
    "import pandas as pd \n",
    "from bs4 import BeautifulSoup\n",
    "from io import StringIO\n"
   ]
  },
  {
   "cell_type": "code",
   "execution_count": 41,
   "metadata": {},
   "outputs": [],
   "source": [
    "SCORE_DIR = 'data/scores'"
   ]
  },
  {
   "cell_type": "code",
   "execution_count": 42,
   "metadata": {},
   "outputs": [],
   "source": [
    "box_scores = os.listdir(SCORE_DIR)"
   ]
  },
  {
   "cell_type": "code",
   "execution_count": 43,
   "metadata": {},
   "outputs": [],
   "source": [
    "box_scores = [os.path.join(SCORE_DIR, f) for f in box_scores if f.endswith('.html')]"
   ]
  },
  {
   "cell_type": "code",
   "execution_count": 44,
   "metadata": {},
   "outputs": [],
   "source": [
    "def parse_html(box_score):\n",
    "    with open(box_score) as f:\n",
    "        html = f.read()\n",
    "        \n",
    "    soup = BeautifulSoup(html)\n",
    "    [s.decompose() for s in soup.select('tr.over_header')]\n",
    "    [s.decompose() for s in soup.select('tr.thead')]\n",
    "    return soup"
   ]
  },
  {
   "cell_type": "code",
   "execution_count": 45,
   "metadata": {},
   "outputs": [],
   "source": [
    "def read_line_score(soup):\n",
    "    line_score = pd.read_html(StringIO(str(soup)), attrs={'id' : 'line_score'})[0]\n",
    "    cols = list(line_score.columns)\n",
    "    cols[0] = 'team'\n",
    "    cols[-1] = 'total'\n",
    "    line_score.columns = cols\n",
    "    \n",
    "    line_score = line_score[['team', 'total']]\n",
    "    return line_score"
   ]
  },
  {
   "cell_type": "code",
   "execution_count": 56,
   "metadata": {},
   "outputs": [],
   "source": [
    "def read_stats(soup, team, stat):\n",
    "    df = pd.read_html(StringIO(str(soup)), attrs = {'id' : f'box-{team}-game-{stat}'}, index_col= 0)[0]\n",
    "    df = df.apply(pd.to_numeric, errors='coerce')\n",
    "    return df"
   ]
  },
  {
   "cell_type": "code",
   "execution_count": 93,
   "metadata": {},
   "outputs": [],
   "source": [
    "def read_season_info(soup):\n",
    "    nav = soup.select('#bottom_nav_container')[0]\n",
    "    href = [a['href'] for a in nav.find_all('a')]\n",
    "    season = os.path.basename(href[1]).split('_')[0]\n",
    "    return season"
   ]
  },
  {
   "cell_type": "code",
   "execution_count": null,
   "metadata": {},
   "outputs": [],
   "source": [
    "base_cols = None\n",
    "games = []\n",
    "\n",
    "for box_score in box_scores:\n",
    "    soup = parse_html(box_score)\n",
    "    line_score = read_line_score(soup)\n",
    "    teams = list(line_score['team'])\n",
    "\n",
    "    summaries = []\n",
    "    for team in teams:\n",
    "        basic = read_stats(soup, team, 'basic')\n",
    "        advanced = read_stats(soup, team, 'advanced')\n",
    "        \n",
    "        totals = pd.concat([basic.iloc[-1,:], advanced.iloc[-1,:]])\n",
    "        totals.index = totals.index.str.lower()\n",
    "        \n",
    "        maxes = pd.concat([basic.iloc[:-1,:].max(), advanced.iloc[:-1,:].max()])\n",
    "        maxes.index = maxes.index.str.lower() + '_max'\n",
    "        \n",
    "        summary = pd.concat([totals, maxes])\n",
    "        \n",
    "        if base_cols is None:\n",
    "            base_cols = list(summary.index.drop_duplicates(keep='first'))\n",
    "            base_cols = [b for b in base_cols if 'bpm' not in b]\n",
    "            \n",
    "        summary = summary[base_cols]\n",
    "        \n",
    "        summaries.append(summary)\n",
    "        \n",
    "    summary = pd.concat(summaries, axis=1).T  \n",
    "\n",
    "    game = pd.concat([summary, line_score], axis=1)\n",
    "\n",
    "    game['home'] = [0, 1]\n",
    "    game_opp = game.iloc[:: -1].reset_index()\n",
    "    game_opp.columns += '_opp'\n",
    "\n",
    "    full_game = pd.concat([game, game_opp], axis=1)\n",
    "\n",
    "    full_game['season'] = read_season_info(soup)\n",
    "\n",
    "    full_game['date'] = os.path.basename(box_score)[:8]\n",
    "    full_game['date'] = pd.to_datetime(full_game['date'], format='%Y%m%d')\n",
    "\n",
    "    full_game['won'] = full_game['total'] > full_game['total_opp']\n",
    "\n",
    "    games.append(full_game)\n",
    "    \n",
    "    if len(games) % 100 == 0:\n",
    "        print(f'{len(games)} / {len(box_scores)}')"
   ]
  },
  {
   "cell_type": "code",
   "execution_count": 99,
   "metadata": {},
   "outputs": [
    {
     "data": {
      "text/html": [
       "<div>\n",
       "<style scoped>\n",
       "    .dataframe tbody tr th:only-of-type {\n",
       "        vertical-align: middle;\n",
       "    }\n",
       "\n",
       "    .dataframe tbody tr th {\n",
       "        vertical-align: top;\n",
       "    }\n",
       "\n",
       "    .dataframe thead th {\n",
       "        text-align: right;\n",
       "    }\n",
       "</style>\n",
       "<table border=\"1\" class=\"dataframe\">\n",
       "  <thead>\n",
       "    <tr style=\"text-align: right;\">\n",
       "      <th></th>\n",
       "      <th>mp</th>\n",
       "      <th>mp</th>\n",
       "      <th>fg</th>\n",
       "      <th>fga</th>\n",
       "      <th>fg%</th>\n",
       "      <th>3p</th>\n",
       "      <th>3pa</th>\n",
       "      <th>3p%</th>\n",
       "      <th>ft</th>\n",
       "      <th>fta</th>\n",
       "      <th>...</th>\n",
       "      <th>tov%_max_opp</th>\n",
       "      <th>usg%_max_opp</th>\n",
       "      <th>ortg_max_opp</th>\n",
       "      <th>drtg_max_opp</th>\n",
       "      <th>team_opp</th>\n",
       "      <th>total_opp</th>\n",
       "      <th>home_opp</th>\n",
       "      <th>season</th>\n",
       "      <th>date</th>\n",
       "      <th>won</th>\n",
       "    </tr>\n",
       "  </thead>\n",
       "  <tbody>\n",
       "    <tr>\n",
       "      <th>0</th>\n",
       "      <td>240.0</td>\n",
       "      <td>240.0</td>\n",
       "      <td>39.0</td>\n",
       "      <td>81.0</td>\n",
       "      <td>0.481</td>\n",
       "      <td>6.0</td>\n",
       "      <td>20.0</td>\n",
       "      <td>0.300</td>\n",
       "      <td>14.0</td>\n",
       "      <td>18.0</td>\n",
       "      <td>...</td>\n",
       "      <td>22.8</td>\n",
       "      <td>29.0</td>\n",
       "      <td>178.0</td>\n",
       "      <td>111.0</td>\n",
       "      <td>DAL</td>\n",
       "      <td>95</td>\n",
       "      <td>1</td>\n",
       "      <td>2016</td>\n",
       "      <td>2015-12-09</td>\n",
       "      <td>True</td>\n",
       "    </tr>\n",
       "    <tr>\n",
       "      <th>1</th>\n",
       "      <td>240.0</td>\n",
       "      <td>240.0</td>\n",
       "      <td>36.0</td>\n",
       "      <td>100.0</td>\n",
       "      <td>0.360</td>\n",
       "      <td>7.0</td>\n",
       "      <td>31.0</td>\n",
       "      <td>0.226</td>\n",
       "      <td>16.0</td>\n",
       "      <td>19.0</td>\n",
       "      <td>...</td>\n",
       "      <td>50.0</td>\n",
       "      <td>32.6</td>\n",
       "      <td>152.0</td>\n",
       "      <td>111.0</td>\n",
       "      <td>ATL</td>\n",
       "      <td>98</td>\n",
       "      <td>0</td>\n",
       "      <td>2016</td>\n",
       "      <td>2015-12-09</td>\n",
       "      <td>False</td>\n",
       "    </tr>\n",
       "  </tbody>\n",
       "</table>\n",
       "<p>2 rows × 150 columns</p>\n",
       "</div>"
      ],
      "text/plain": [
       "      mp     mp    fg    fga    fg%   3p   3pa    3p%    ft   fta  ...  \\\n",
       "0  240.0  240.0  39.0   81.0  0.481  6.0  20.0  0.300  14.0  18.0  ...   \n",
       "1  240.0  240.0  36.0  100.0  0.360  7.0  31.0  0.226  16.0  19.0  ...   \n",
       "\n",
       "   tov%_max_opp  usg%_max_opp  ortg_max_opp  drtg_max_opp  team_opp  \\\n",
       "0          22.8          29.0         178.0         111.0       DAL   \n",
       "1          50.0          32.6         152.0         111.0       ATL   \n",
       "\n",
       "   total_opp  home_opp  season       date    won  \n",
       "0         95         1    2016 2015-12-09   True  \n",
       "1         98         0    2016 2015-12-09  False  \n",
       "\n",
       "[2 rows x 150 columns]"
      ]
     },
     "execution_count": 99,
     "metadata": {},
     "output_type": "execute_result"
    }
   ],
   "source": [
    "full_game"
   ]
  }
 ],
 "metadata": {
  "kernelspec": {
   "display_name": "Python 3",
   "language": "python",
   "name": "python3"
  },
  "language_info": {
   "codemirror_mode": {
    "name": "ipython",
    "version": 3
   },
   "file_extension": ".py",
   "mimetype": "text/x-python",
   "name": "python",
   "nbconvert_exporter": "python",
   "pygments_lexer": "ipython3",
   "version": "3.12.0"
  }
 },
 "nbformat": 4,
 "nbformat_minor": 2
}
